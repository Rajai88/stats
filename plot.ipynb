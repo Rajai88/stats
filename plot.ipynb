{
 "cells": [
  {
   "cell_type": "code",
   "execution_count": 2,
   "metadata": {},
   "outputs": [],
   "source": [
    "import matplotlib.pyplot as plt\n",
    "import pandas as pd\n",
    "import numpy as np"
   ]
  },
  {
   "cell_type": "code",
   "execution_count": 3,
   "metadata": {},
   "outputs": [],
   "source": [
    "weather_df = pd.read_csv(\"Istanbul Weather Data.csv\", delimiter=\",\")"
   ]
  },
  {
   "cell_type": "code",
   "execution_count": 4,
   "metadata": {},
   "outputs": [
    {
     "data": {
      "text/html": [
       "<div>\n",
       "<style scoped>\n",
       "    .dataframe tbody tr th:only-of-type {\n",
       "        vertical-align: middle;\n",
       "    }\n",
       "\n",
       "    .dataframe tbody tr th {\n",
       "        vertical-align: top;\n",
       "    }\n",
       "\n",
       "    .dataframe thead th {\n",
       "        text-align: right;\n",
       "    }\n",
       "</style>\n",
       "<table border=\"1\" class=\"dataframe\">\n",
       "  <thead>\n",
       "    <tr style=\"text-align: right;\">\n",
       "      <th></th>\n",
       "      <th>DateTime</th>\n",
       "      <th>Condition</th>\n",
       "      <th>Rain</th>\n",
       "      <th>MaxTemp</th>\n",
       "      <th>MinTemp</th>\n",
       "      <th>SunRise</th>\n",
       "      <th>SunSet</th>\n",
       "      <th>MoonRise</th>\n",
       "      <th>MoonSet</th>\n",
       "      <th>AvgWind</th>\n",
       "      <th>AvgHumidity</th>\n",
       "      <th>AvgPressure</th>\n",
       "    </tr>\n",
       "  </thead>\n",
       "  <tbody>\n",
       "    <tr>\n",
       "      <th>0</th>\n",
       "      <td>22.07.2019</td>\n",
       "      <td>Partly cloudy</td>\n",
       "      <td>0.0</td>\n",
       "      <td>29</td>\n",
       "      <td>23</td>\n",
       "      <td>05:51:00</td>\n",
       "      <td>20:30:00</td>\n",
       "      <td>23:41:00</td>\n",
       "      <td>10:51:00</td>\n",
       "      <td>19</td>\n",
       "      <td>57</td>\n",
       "      <td>1017</td>\n",
       "    </tr>\n",
       "    <tr>\n",
       "      <th>1</th>\n",
       "      <td>21.07.2019</td>\n",
       "      <td>Sunny</td>\n",
       "      <td>0.0</td>\n",
       "      <td>28</td>\n",
       "      <td>23</td>\n",
       "      <td>05:50:00</td>\n",
       "      <td>20:31:00</td>\n",
       "      <td>23:16:00</td>\n",
       "      <td>9:53:00</td>\n",
       "      <td>20</td>\n",
       "      <td>59</td>\n",
       "      <td>1018</td>\n",
       "    </tr>\n",
       "    <tr>\n",
       "      <th>2</th>\n",
       "      <td>20.07.2019</td>\n",
       "      <td>Partly cloudy</td>\n",
       "      <td>0.0</td>\n",
       "      <td>28</td>\n",
       "      <td>22</td>\n",
       "      <td>05:50:00</td>\n",
       "      <td>20:32:00</td>\n",
       "      <td>22:49:00</td>\n",
       "      <td>8:55:00</td>\n",
       "      <td>24</td>\n",
       "      <td>62</td>\n",
       "      <td>1016</td>\n",
       "    </tr>\n",
       "    <tr>\n",
       "      <th>3</th>\n",
       "      <td>19.07.2019</td>\n",
       "      <td>Sunny</td>\n",
       "      <td>0.0</td>\n",
       "      <td>28</td>\n",
       "      <td>23</td>\n",
       "      <td>05:48:00</td>\n",
       "      <td>20:32:00</td>\n",
       "      <td>22:19:00</td>\n",
       "      <td>7:56:00</td>\n",
       "      <td>20</td>\n",
       "      <td>60</td>\n",
       "      <td>1014</td>\n",
       "    </tr>\n",
       "    <tr>\n",
       "      <th>4</th>\n",
       "      <td>18.07.2019</td>\n",
       "      <td>Partly cloudy</td>\n",
       "      <td>0.0</td>\n",
       "      <td>27</td>\n",
       "      <td>22</td>\n",
       "      <td>05:47:00</td>\n",
       "      <td>20:33:00</td>\n",
       "      <td>21:47:00</td>\n",
       "      <td>6:57:00</td>\n",
       "      <td>16</td>\n",
       "      <td>56</td>\n",
       "      <td>1010</td>\n",
       "    </tr>\n",
       "  </tbody>\n",
       "</table>\n",
       "</div>"
      ],
      "text/plain": [
       "     DateTime      Condition  Rain  MaxTemp  MinTemp   SunRise    SunSet  \\\n",
       "0  22.07.2019  Partly cloudy   0.0       29       23  05:51:00  20:30:00   \n",
       "1  21.07.2019          Sunny   0.0       28       23  05:50:00  20:31:00   \n",
       "2  20.07.2019  Partly cloudy   0.0       28       22  05:50:00  20:32:00   \n",
       "3  19.07.2019          Sunny   0.0       28       23  05:48:00  20:32:00   \n",
       "4  18.07.2019  Partly cloudy   0.0       27       22  05:47:00  20:33:00   \n",
       "\n",
       "   MoonRise   MoonSet  AvgWind  AvgHumidity  AvgPressure  \n",
       "0  23:41:00  10:51:00       19           57         1017  \n",
       "1  23:16:00   9:53:00       20           59         1018  \n",
       "2  22:49:00   8:55:00       24           62         1016  \n",
       "3  22:19:00   7:56:00       20           60         1014  \n",
       "4  21:47:00   6:57:00       16           56         1010  "
      ]
     },
     "execution_count": 4,
     "metadata": {},
     "output_type": "execute_result"
    }
   ],
   "source": [
    "weather_df.head()"
   ]
  },
  {
   "cell_type": "code",
   "execution_count": 6,
   "metadata": {},
   "outputs": [
    {
     "data": {
      "text/plain": [
       "Text(0,0.5,'MaxTemp')"
      ]
     },
     "execution_count": 6,
     "metadata": {},
     "output_type": "execute_result"
    },
    {
     "data": {
      "image/png": "[encoded data removed]",
      "text/plain": [
       "<Figure size 432x288 with 1 Axes>"
      ]
     },
     "metadata": {
      "needs_background": "light"
     },
     "output_type": "display_data"
    }
   ],
   "source": [
    "plt.plot(weather_df.index, weather_df.MaxTemp)\n",
    "plt.xlabel('days')\n",
    "plt.ylabel('MaxTemp')"
   ]
  },
  {
   "cell_type": "code",
   "execution_count": null,
   "metadata": {},
   "outputs": [],
   "source": []
  }
 ],
 "metadata": {
  "kernelspec": {
   "display_name": "Python 3",
   "language": "python",
   "name": "python3"
  },
  "language_info": {
   "codemirror_mode": {
    "name": "ipython",
    "version": 3
   },
   "file_extension": ".py",
   "mimetype": "text/x-python",
   "name": "python",
   "nbconvert_exporter": "python",
   "pygments_lexer": "ipython3",
   "version": "3.7.0"
  }
 },
 "nbformat": 4,
 "nbformat_minor": 2
}
