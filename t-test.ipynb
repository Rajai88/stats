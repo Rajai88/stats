{
 "cells": [
  {
   "cell_type": "code",
   "execution_count": 2,
   "metadata": {},
   "outputs": [],
   "source": [
    "from scipy import stats\n",
    "import numpy as np\n",
    "import pandas as pd"
   ]
  },
  {
   "cell_type": "code",
   "execution_count": 3,
   "metadata": {},
   "outputs": [],
   "source": [
    "weather_df = pd.read_csv(\"Istanbul Weather Data.csv\", delimiter=\",\")"
   ]
  },
  {
   "cell_type": "code",
   "execution_count": 5,
   "metadata": {},
   "outputs": [
    {
     "data": {
      "text/html": [
       "<div>\n",
       "<style scoped>\n",
       "    .dataframe tbody tr th:only-of-type {\n",
       "        vertical-align: middle;\n",
       "    }\n",
       "\n",
       "    .dataframe tbody tr th {\n",
       "        vertical-align: top;\n",
       "    }\n",
       "\n",
       "    .dataframe thead th {\n",
       "        text-align: right;\n",
       "    }\n",
       "</style>\n",
       "<table border=\"1\" class=\"dataframe\">\n",
       "  <thead>\n",
       "    <tr style=\"text-align: right;\">\n",
       "      <th></th>\n",
       "      <th>DateTime</th>\n",
       "      <th>Condition</th>\n",
       "      <th>Rain</th>\n",
       "      <th>MaxTemp</th>\n",
       "      <th>MinTemp</th>\n",
       "      <th>SunRise</th>\n",
       "      <th>SunSet</th>\n",
       "      <th>MoonRise</th>\n",
       "      <th>MoonSet</th>\n",
       "      <th>AvgWind</th>\n",
       "      <th>AvgHumidity</th>\n",
       "      <th>AvgPressure</th>\n",
       "    </tr>\n",
       "  </thead>\n",
       "  <tbody>\n",
       "    <tr>\n",
       "      <th>0</th>\n",
       "      <td>22.07.2019</td>\n",
       "      <td>Partly cloudy</td>\n",
       "      <td>0.0</td>\n",
       "      <td>29</td>\n",
       "      <td>23</td>\n",
       "      <td>05:51:00</td>\n",
       "      <td>20:30:00</td>\n",
       "      <td>23:41:00</td>\n",
       "      <td>10:51:00</td>\n",
       "      <td>19</td>\n",
       "      <td>57</td>\n",
       "      <td>1017</td>\n",
       "    </tr>\n",
       "    <tr>\n",
       "      <th>1</th>\n",
       "      <td>21.07.2019</td>\n",
       "      <td>Sunny</td>\n",
       "      <td>0.0</td>\n",
       "      <td>28</td>\n",
       "      <td>23</td>\n",
       "      <td>05:50:00</td>\n",
       "      <td>20:31:00</td>\n",
       "      <td>23:16:00</td>\n",
       "      <td>9:53:00</td>\n",
       "      <td>20</td>\n",
       "      <td>59</td>\n",
       "      <td>1018</td>\n",
       "    </tr>\n",
       "    <tr>\n",
       "      <th>2</th>\n",
       "      <td>20.07.2019</td>\n",
       "      <td>Partly cloudy</td>\n",
       "      <td>0.0</td>\n",
       "      <td>28</td>\n",
       "      <td>22</td>\n",
       "      <td>05:50:00</td>\n",
       "      <td>20:32:00</td>\n",
       "      <td>22:49:00</td>\n",
       "      <td>8:55:00</td>\n",
       "      <td>24</td>\n",
       "      <td>62</td>\n",
       "      <td>1016</td>\n",
       "    </tr>\n",
       "  </tbody>\n",
       "</table>\n",
       "</div>"
      ],
      "text/plain": [
       "     DateTime      Condition  Rain  MaxTemp  MinTemp   SunRise    SunSet  \\\n",
       "0  22.07.2019  Partly cloudy   0.0       29       23  05:51:00  20:30:00   \n",
       "1  21.07.2019          Sunny   0.0       28       23  05:50:00  20:31:00   \n",
       "2  20.07.2019  Partly cloudy   0.0       28       22  05:50:00  20:32:00   \n",
       "\n",
       "   MoonRise   MoonSet  AvgWind  AvgHumidity  AvgPressure  \n",
       "0  23:41:00  10:51:00       19           57         1017  \n",
       "1  23:16:00   9:53:00       20           59         1018  \n",
       "2  22:49:00   8:55:00       24           62         1016  "
      ]
     },
     "execution_count": 5,
     "metadata": {},
     "output_type": "execute_result"
    }
   ],
   "source": [
    "weather_df.head(3)"
   ]
  },
  {
   "cell_type": "code",
   "execution_count": 16,
   "metadata": {},
   "outputs": [],
   "source": [
    "# statistically compare MaxTemp and MinTemp using t-test\n",
    "t_statistic, p_value = stats.ttest_ind(weather_df.MaxTemp.values, weather_df.MinTemp.values)"
   ]
  },
  {
   "cell_type": "code",
   "execution_count": 17,
   "metadata": {},
   "outputs": [
    {
     "data": {
      "text/plain": [
       "26.178697396083113"
      ]
     },
     "execution_count": 17,
     "metadata": {},
     "output_type": "execute_result"
    }
   ],
   "source": [
    "t_statistic"
   ]
  },
  {
   "cell_type": "code",
   "execution_count": 18,
   "metadata": {},
   "outputs": [
    {
     "data": {
      "text/plain": [
       "8.611618342404264e-145"
      ]
     },
     "execution_count": 18,
     "metadata": {},
     "output_type": "execute_result"
    }
   ],
   "source": [
    "p_value"
   ]
  },
  {
   "cell_type": "code",
   "execution_count": 21,
   "metadata": {},
   "outputs": [],
   "source": [
    "# lets add a new column delivering same kind of information as MaxTemp and then comparing using t-test\n",
    "MaxTemp_Far = weather_df.MaxTemp.values * 9 / 5 + 32"
   ]
  },
  {
   "cell_type": "code",
   "execution_count": 23,
   "metadata": {},
   "outputs": [],
   "source": [
    "weather_df.insert(loc=3, column=\"MaxTemp_Far\", value=MaxTemp_Far)"
   ]
  },
  {
   "cell_type": "code",
   "execution_count": 25,
   "metadata": {},
   "outputs": [
    {
     "data": {
      "text/html": [
       "<div>\n",
       "<style scoped>\n",
       "    .dataframe tbody tr th:only-of-type {\n",
       "        vertical-align: middle;\n",
       "    }\n",
       "\n",
       "    .dataframe tbody tr th {\n",
       "        vertical-align: top;\n",
       "    }\n",
       "\n",
       "    .dataframe thead th {\n",
       "        text-align: right;\n",
       "    }\n",
       "</style>\n",
       "<table border=\"1\" class=\"dataframe\">\n",
       "  <thead>\n",
       "    <tr style=\"text-align: right;\">\n",
       "      <th></th>\n",
       "      <th>DateTime</th>\n",
       "      <th>Condition</th>\n",
       "      <th>Rain</th>\n",
       "      <th>MaxTemp_Far</th>\n",
       "      <th>MaxTemp</th>\n",
       "      <th>MinTemp</th>\n",
       "      <th>SunRise</th>\n",
       "      <th>SunSet</th>\n",
       "      <th>MoonRise</th>\n",
       "      <th>MoonSet</th>\n",
       "      <th>AvgWind</th>\n",
       "      <th>AvgHumidity</th>\n",
       "      <th>AvgPressure</th>\n",
       "    </tr>\n",
       "  </thead>\n",
       "  <tbody>\n",
       "    <tr>\n",
       "      <th>0</th>\n",
       "      <td>22.07.2019</td>\n",
       "      <td>Partly cloudy</td>\n",
       "      <td>0.0</td>\n",
       "      <td>84.2</td>\n",
       "      <td>29</td>\n",
       "      <td>23</td>\n",
       "      <td>05:51:00</td>\n",
       "      <td>20:30:00</td>\n",
       "      <td>23:41:00</td>\n",
       "      <td>10:51:00</td>\n",
       "      <td>19</td>\n",
       "      <td>57</td>\n",
       "      <td>1017</td>\n",
       "    </tr>\n",
       "    <tr>\n",
       "      <th>1</th>\n",
       "      <td>21.07.2019</td>\n",
       "      <td>Sunny</td>\n",
       "      <td>0.0</td>\n",
       "      <td>82.4</td>\n",
       "      <td>28</td>\n",
       "      <td>23</td>\n",
       "      <td>05:50:00</td>\n",
       "      <td>20:31:00</td>\n",
       "      <td>23:16:00</td>\n",
       "      <td>9:53:00</td>\n",
       "      <td>20</td>\n",
       "      <td>59</td>\n",
       "      <td>1018</td>\n",
       "    </tr>\n",
       "    <tr>\n",
       "      <th>2</th>\n",
       "      <td>20.07.2019</td>\n",
       "      <td>Partly cloudy</td>\n",
       "      <td>0.0</td>\n",
       "      <td>82.4</td>\n",
       "      <td>28</td>\n",
       "      <td>22</td>\n",
       "      <td>05:50:00</td>\n",
       "      <td>20:32:00</td>\n",
       "      <td>22:49:00</td>\n",
       "      <td>8:55:00</td>\n",
       "      <td>24</td>\n",
       "      <td>62</td>\n",
       "      <td>1016</td>\n",
       "    </tr>\n",
       "  </tbody>\n",
       "</table>\n",
       "</div>"
      ],
      "text/plain": [
       "     DateTime      Condition  Rain  MaxTemp_Far  MaxTemp  MinTemp   SunRise  \\\n",
       "0  22.07.2019  Partly cloudy   0.0         84.2       29       23  05:51:00   \n",
       "1  21.07.2019          Sunny   0.0         82.4       28       23  05:50:00   \n",
       "2  20.07.2019  Partly cloudy   0.0         82.4       28       22  05:50:00   \n",
       "\n",
       "     SunSet  MoonRise   MoonSet  AvgWind  AvgHumidity  AvgPressure  \n",
       "0  20:30:00  23:41:00  10:51:00       19           57         1017  \n",
       "1  20:31:00  23:16:00   9:53:00       20           59         1018  \n",
       "2  20:32:00  22:49:00   8:55:00       24           62         1016  "
      ]
     },
     "execution_count": 25,
     "metadata": {},
     "output_type": "execute_result"
    }
   ],
   "source": [
    "weather_df.head(3)"
   ]
  },
  {
   "cell_type": "code",
   "execution_count": 26,
   "metadata": {},
   "outputs": [],
   "source": [
    "# statistically compare MaxTemp and MinTemp using t-test\n",
    "t_statistic, p_value = stats.ttest_ind(weather_df.MaxTemp_Far.values, weather_df.MaxTemp.values)"
   ]
  },
  {
   "cell_type": "code",
   "execution_count": 27,
   "metadata": {},
   "outputs": [
    {
     "data": {
      "text/plain": [
       "184.59984567607717"
      ]
     },
     "execution_count": 27,
     "metadata": {},
     "output_type": "execute_result"
    }
   ],
   "source": [
    "t_statistic"
   ]
  },
  {
   "cell_type": "code",
   "execution_count": 28,
   "metadata": {},
   "outputs": [
    {
     "data": {
      "text/plain": [
       "0.0"
      ]
     },
     "execution_count": 28,
     "metadata": {},
     "output_type": "execute_result"
    }
   ],
   "source": [
    "p_value"
   ]
  },
  {
   "cell_type": "code",
   "execution_count": 29,
   "metadata": {},
   "outputs": [
    {
     "data": {
      "text/plain": [
       "array(['Partly cloudy', 'Sunny', 'Patchy rain possible', 'Overcast',\n",
       "       'Heavy rain at times', 'Cloudy', 'Patchy light rain with thunder',\n",
       "       'Light rain shower', 'Moderate or heavy rain shower',\n",
       "       'Moderate or heavy rain with thunder', 'Light rain',\n",
       "       'Light drizzle', 'Moderate rain', 'Light sleet',\n",
       "       'Moderate rain at times', 'Patchy light drizzle',\n",
       "       'Thundery outbreaks possible', 'Moderate or heavy sleet',\n",
       "       'Heavy rain', 'Moderate or heavy snow showers', 'Moderate snow',\n",
       "       'Mist', 'Blizzard', 'Light sleet showers',\n",
       "       'Torrential rain shower', 'Fog'], dtype=object)"
      ]
     },
     "execution_count": 29,
     "metadata": {},
     "output_type": "execute_result"
    }
   ],
   "source": [
    "weather_df.Condition.unique()"
   ]
  },
  {
   "cell_type": "code",
   "execution_count": null,
   "metadata": {},
   "outputs": [],
   "source": []
  },
  {
   "cell_type": "code",
   "execution_count": null,
   "metadata": {},
   "outputs": [],
   "source": []
  }
 ],
 "metadata": {
  "kernelspec": {
   "display_name": "Python 3",
   "language": "python",
   "name": "python3"
  },
  "language_info": {
   "codemirror_mode": {
    "name": "ipython",
    "version": 3
   },
   "file_extension": ".py",
   "mimetype": "text/x-python",
   "name": "python",
   "nbconvert_exporter": "python",
   "pygments_lexer": "ipython3",
   "version": "3.7.0"
  }
 },
 "nbformat": 4,
 "nbformat_minor": 2
}
